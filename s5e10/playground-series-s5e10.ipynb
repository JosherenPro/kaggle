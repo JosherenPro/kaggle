{
 "cells": [
  {
   "metadata": {
    "ExecuteTime": {
     "end_time": "2025-10-10T11:19:24.544898Z",
     "start_time": "2025-10-10T11:19:24.352248Z"
    }
   },
   "cell_type": "code",
   "source": "!which python",
   "id": "6dba56c84174f770",
   "outputs": [],
   "execution_count": 1
  },
  {
   "cell_type": "code",
   "id": "0f1e6403",
   "metadata": {
    "ExecuteTime": {
     "end_time": "2025-10-10T11:19:24.575270Z",
     "start_time": "2025-10-10T11:19:24.569782Z"
    }
   },
   "source": [
    "import numpy as np\n",
    "import pandas as pd\n",
    "import matplotlib.pyplot as plt\n",
    "import seaborn as sns"
   ],
   "outputs": [],
   "execution_count": 2
  },
  {
   "metadata": {
    "ExecuteTime": {
     "end_time": "2025-10-10T11:19:24.790097Z",
     "start_time": "2025-10-10T11:19:24.638789Z"
    }
   },
   "cell_type": "code",
   "source": "!ls",
   "id": "2c7ab7d1c53fa352",
   "outputs": [
    {
     "name": "stdout",
     "output_type": "stream",
     "text": [
      "catboost_info  data  playground-series-s5e10.ipynb\r\n"
     ]
    }
   ],
   "execution_count": 3
  },
  {
   "cell_type": "code",
   "id": "87c536be",
   "metadata": {
    "ExecuteTime": {
     "end_time": "2025-10-10T11:19:25.138023Z",
     "start_time": "2025-10-10T11:19:24.834189Z"
    }
   },
   "source": [
    "!chmod 600 /home/josheren/kaggle/kaggle.json\n",
    "\n",
    "!python3 --version"
   ],
   "outputs": [
    {
     "name": "stdout",
     "output_type": "stream",
     "text": [
      "Python 3.12.3\r\n"
     ]
    }
   ],
   "execution_count": 4
  },
  {
   "cell_type": "code",
   "id": "ff528d29",
   "metadata": {
    "ExecuteTime": {
     "end_time": "2025-10-10T11:19:25.177022Z",
     "start_time": "2025-10-10T11:19:25.168717Z"
    }
   },
   "source": [
    "import os\n",
    "\n",
    "COMPETITION_NAME = \"playground-series-s5e10\"\n",
    "\n",
    "if not os.path.exists('./data/playground-series-s5e10.zip'):\n",
    "    print(\"Download.\")\n",
    "    !kaggle competitions download -c $COMPETITION_NAME -p ./data\n",
    "\n",
    "if not os.path.exists('./data/train.csv'):\n",
    "    print(\"Unzip.\")\n",
    "    !unzip ./data/playground-series-s5e10.zip -d ./data\n",
    "\n"
   ],
   "outputs": [],
   "execution_count": 5
  },
  {
   "cell_type": "code",
   "id": "78b7993e",
   "metadata": {
    "ExecuteTime": {
     "end_time": "2025-10-10T11:19:25.233397Z",
     "start_time": "2025-10-10T11:19:25.227942Z"
    }
   },
   "source": [
    "path = './data/'\n",
    "\n",
    "train_path = path + 'train.csv'\n",
    "test_path = path + 'test.csv'\n",
    "submission_path = path + 'sample_submission.csv'"
   ],
   "outputs": [],
   "execution_count": 6
  },
  {
   "cell_type": "code",
   "id": "c1549f5b",
   "metadata": {
    "ExecuteTime": {
     "end_time": "2025-10-10T11:19:27.072130Z",
     "start_time": "2025-10-10T11:19:25.295780Z"
    }
   },
   "source": [
    "train_data = pd.read_csv(train_path)\n",
    "test_data = pd.read_csv(test_path)\n",
    "submission_data = pd.read_csv(submission_path)\n",
    "\n",
    "train_data.head()"
   ],
   "outputs": [
    {
     "data": {
      "text/plain": [
       "   id road_type  num_lanes  curvature  speed_limit  lighting weather  \\\n",
       "0   0     urban          2       0.06           35  daylight   rainy   \n",
       "1   1     urban          4       0.99           35  daylight   clear   \n",
       "2   2     rural          4       0.63           70       dim   clear   \n",
       "3   3   highway          4       0.07           35       dim   rainy   \n",
       "4   4     rural          1       0.58           60  daylight   foggy   \n",
       "\n",
       "   road_signs_present  public_road time_of_day  holiday  school_season  \\\n",
       "0               False         True   afternoon    False           True   \n",
       "1                True        False     evening     True           True   \n",
       "2               False         True     morning     True          False   \n",
       "3                True         True     morning    False          False   \n",
       "4               False        False     evening     True          False   \n",
       "\n",
       "   num_reported_accidents  accident_risk  \n",
       "0                       1           0.13  \n",
       "1                       0           0.35  \n",
       "2                       2           0.30  \n",
       "3                       1           0.21  \n",
       "4                       1           0.56  "
      ],
      "text/html": [
       "<div>\n",
       "<style scoped>\n",
       "    .dataframe tbody tr th:only-of-type {\n",
       "        vertical-align: middle;\n",
       "    }\n",
       "\n",
       "    .dataframe tbody tr th {\n",
       "        vertical-align: top;\n",
       "    }\n",
       "\n",
       "    .dataframe thead th {\n",
       "        text-align: right;\n",
       "    }\n",
       "</style>\n",
       "<table border=\"1\" class=\"dataframe\">\n",
       "  <thead>\n",
       "    <tr style=\"text-align: right;\">\n",
       "      <th></th>\n",
       "      <th>id</th>\n",
       "      <th>road_type</th>\n",
       "      <th>num_lanes</th>\n",
       "      <th>curvature</th>\n",
       "      <th>speed_limit</th>\n",
       "      <th>lighting</th>\n",
       "      <th>weather</th>\n",
       "      <th>road_signs_present</th>\n",
       "      <th>public_road</th>\n",
       "      <th>time_of_day</th>\n",
       "      <th>holiday</th>\n",
       "      <th>school_season</th>\n",
       "      <th>num_reported_accidents</th>\n",
       "      <th>accident_risk</th>\n",
       "    </tr>\n",
       "  </thead>\n",
       "  <tbody>\n",
       "    <tr>\n",
       "      <th>0</th>\n",
       "      <td>0</td>\n",
       "      <td>urban</td>\n",
       "      <td>2</td>\n",
       "      <td>0.06</td>\n",
       "      <td>35</td>\n",
       "      <td>daylight</td>\n",
       "      <td>rainy</td>\n",
       "      <td>False</td>\n",
       "      <td>True</td>\n",
       "      <td>afternoon</td>\n",
       "      <td>False</td>\n",
       "      <td>True</td>\n",
       "      <td>1</td>\n",
       "      <td>0.13</td>\n",
       "    </tr>\n",
       "    <tr>\n",
       "      <th>1</th>\n",
       "      <td>1</td>\n",
       "      <td>urban</td>\n",
       "      <td>4</td>\n",
       "      <td>0.99</td>\n",
       "      <td>35</td>\n",
       "      <td>daylight</td>\n",
       "      <td>clear</td>\n",
       "      <td>True</td>\n",
       "      <td>False</td>\n",
       "      <td>evening</td>\n",
       "      <td>True</td>\n",
       "      <td>True</td>\n",
       "      <td>0</td>\n",
       "      <td>0.35</td>\n",
       "    </tr>\n",
       "    <tr>\n",
       "      <th>2</th>\n",
       "      <td>2</td>\n",
       "      <td>rural</td>\n",
       "      <td>4</td>\n",
       "      <td>0.63</td>\n",
       "      <td>70</td>\n",
       "      <td>dim</td>\n",
       "      <td>clear</td>\n",
       "      <td>False</td>\n",
       "      <td>True</td>\n",
       "      <td>morning</td>\n",
       "      <td>True</td>\n",
       "      <td>False</td>\n",
       "      <td>2</td>\n",
       "      <td>0.30</td>\n",
       "    </tr>\n",
       "    <tr>\n",
       "      <th>3</th>\n",
       "      <td>3</td>\n",
       "      <td>highway</td>\n",
       "      <td>4</td>\n",
       "      <td>0.07</td>\n",
       "      <td>35</td>\n",
       "      <td>dim</td>\n",
       "      <td>rainy</td>\n",
       "      <td>True</td>\n",
       "      <td>True</td>\n",
       "      <td>morning</td>\n",
       "      <td>False</td>\n",
       "      <td>False</td>\n",
       "      <td>1</td>\n",
       "      <td>0.21</td>\n",
       "    </tr>\n",
       "    <tr>\n",
       "      <th>4</th>\n",
       "      <td>4</td>\n",
       "      <td>rural</td>\n",
       "      <td>1</td>\n",
       "      <td>0.58</td>\n",
       "      <td>60</td>\n",
       "      <td>daylight</td>\n",
       "      <td>foggy</td>\n",
       "      <td>False</td>\n",
       "      <td>False</td>\n",
       "      <td>evening</td>\n",
       "      <td>True</td>\n",
       "      <td>False</td>\n",
       "      <td>1</td>\n",
       "      <td>0.56</td>\n",
       "    </tr>\n",
       "  </tbody>\n",
       "</table>\n",
       "</div>"
      ]
     },
     "execution_count": 7,
     "metadata": {},
     "output_type": "execute_result"
    }
   ],
   "execution_count": 7
  },
  {
   "cell_type": "code",
   "id": "80b4b5f4",
   "metadata": {
    "ExecuteTime": {
     "end_time": "2025-10-10T11:19:32.289585Z",
     "start_time": "2025-10-10T11:19:32.098986Z"
    }
   },
   "source": [
    "train_data.isna().sum()"
   ],
   "outputs": [
    {
     "data": {
      "text/plain": [
       "id                        0\n",
       "road_type                 0\n",
       "num_lanes                 0\n",
       "curvature                 0\n",
       "speed_limit               0\n",
       "lighting                  0\n",
       "weather                   0\n",
       "road_signs_present        0\n",
       "public_road               0\n",
       "time_of_day               0\n",
       "holiday                   0\n",
       "school_season             0\n",
       "num_reported_accidents    0\n",
       "accident_risk             0\n",
       "dtype: int64"
      ]
     },
     "execution_count": 8,
     "metadata": {},
     "output_type": "execute_result"
    }
   ],
   "execution_count": 8
  },
  {
   "cell_type": "code",
   "id": "6c46e26d",
   "metadata": {
    "ExecuteTime": {
     "end_time": "2025-10-10T11:19:32.996213Z",
     "start_time": "2025-10-10T11:19:32.772087Z"
    }
   },
   "source": [
    "train_data.info()"
   ],
   "outputs": [
    {
     "name": "stdout",
     "output_type": "stream",
     "text": [
      "<class 'pandas.core.frame.DataFrame'>\n",
      "RangeIndex: 517754 entries, 0 to 517753\n",
      "Data columns (total 14 columns):\n",
      " #   Column                  Non-Null Count   Dtype  \n",
      "---  ------                  --------------   -----  \n",
      " 0   id                      517754 non-null  int64  \n",
      " 1   road_type               517754 non-null  object \n",
      " 2   num_lanes               517754 non-null  int64  \n",
      " 3   curvature               517754 non-null  float64\n",
      " 4   speed_limit             517754 non-null  int64  \n",
      " 5   lighting                517754 non-null  object \n",
      " 6   weather                 517754 non-null  object \n",
      " 7   road_signs_present      517754 non-null  bool   \n",
      " 8   public_road             517754 non-null  bool   \n",
      " 9   time_of_day             517754 non-null  object \n",
      " 10  holiday                 517754 non-null  bool   \n",
      " 11  school_season           517754 non-null  bool   \n",
      " 12  num_reported_accidents  517754 non-null  int64  \n",
      " 13  accident_risk           517754 non-null  float64\n",
      "dtypes: bool(4), float64(2), int64(4), object(4)\n",
      "memory usage: 41.5+ MB\n"
     ]
    }
   ],
   "execution_count": 9
  },
  {
   "cell_type": "code",
   "id": "e8b50817",
   "metadata": {
    "ExecuteTime": {
     "end_time": "2025-10-10T11:19:33.144147Z",
     "start_time": "2025-10-10T11:19:33.079404Z"
    }
   },
   "source": [
    "cat_cols =  train_data.select_dtypes(include=\"object\").columns\n",
    "num_cols = train_data.select_dtypes(exclude=[\"object\", \"bool\"]).columns\n",
    "bool_cols = train_data.select_dtypes(include=\"bool\").columns\n",
    "\n",
    "print(\"Categorical \", cat_cols)\n",
    "print()\n",
    "print(\"Numeric \", num_cols)\n",
    "print()\n",
    "print(\"Bool \", bool_cols)"
   ],
   "outputs": [
    {
     "name": "stdout",
     "output_type": "stream",
     "text": [
      "Categorical  Index(['road_type', 'lighting', 'weather', 'time_of_day'], dtype='object')\n",
      "\n",
      "Numeric  Index(['id', 'num_lanes', 'curvature', 'speed_limit', 'num_reported_accidents',\n",
      "       'accident_risk'],\n",
      "      dtype='object')\n",
      "\n",
      "Bool  Index(['road_signs_present', 'public_road', 'holiday', 'school_season'], dtype='object')\n"
     ]
    }
   ],
   "execution_count": 10
  },
  {
   "cell_type": "code",
   "id": "2cd3b178",
   "metadata": {
    "ExecuteTime": {
     "end_time": "2025-10-10T11:19:33.325477Z",
     "start_time": "2025-10-10T11:19:33.164381Z"
    }
   },
   "source": [
    "for col in cat_cols:\n",
    "    print(f\"{col}: \", train_data[col].unique())"
   ],
   "outputs": [
    {
     "name": "stdout",
     "output_type": "stream",
     "text": [
      "road_type:  ['urban' 'rural' 'highway']\n",
      "lighting:  ['daylight' 'dim' 'night']\n",
      "weather:  ['rainy' 'clear' 'foggy']\n",
      "time_of_day:  ['afternoon' 'evening' 'morning']\n"
     ]
    }
   ],
   "execution_count": 11
  },
  {
   "cell_type": "code",
   "id": "33687334",
   "metadata": {
    "ExecuteTime": {
     "end_time": "2025-10-10T11:19:33.420178Z",
     "start_time": "2025-10-10T11:19:33.359532Z"
    }
   },
   "source": [
    "label = \"accident_risk\"\n",
    "\n",
    "X = train_data.drop([label], axis=1)\n",
    "y = train_data[label]"
   ],
   "outputs": [],
   "execution_count": 12
  },
  {
   "cell_type": "code",
   "id": "54abc1f4",
   "metadata": {
    "ExecuteTime": {
     "end_time": "2025-10-10T11:19:33.510023Z",
     "start_time": "2025-10-10T11:19:33.442477Z"
    }
   },
   "source": [
    "cat_cols =  [*(X.select_dtypes(include=\"object\").columns)]\n",
    "num_cols = [*X.select_dtypes(exclude=[\"object\", \"bool\"]).columns]\n",
    "bool_cols = [*X.select_dtypes(include=\"bool\").columns]\n",
    "\n",
    "num_cols.remove(\"id\")\n",
    "\n",
    "print(f\"Categorical {cat_cols} \\n\")\n",
    "print(f\"Numeric  {cat_cols}\\n\")\n",
    "print(f\"Bool  {cat_cols}\")"
   ],
   "outputs": [
    {
     "name": "stdout",
     "output_type": "stream",
     "text": [
      "Categorical ['road_type', 'lighting', 'weather', 'time_of_day'] \n",
      "\n",
      "Numeric  ['road_type', 'lighting', 'weather', 'time_of_day']\n",
      "\n",
      "Bool  ['road_type', 'lighting', 'weather', 'time_of_day']\n"
     ]
    }
   ],
   "execution_count": 13
  },
  {
   "cell_type": "code",
   "id": "32e2bc1c",
   "metadata": {
    "ExecuteTime": {
     "end_time": "2025-10-10T11:19:33.686353Z",
     "start_time": "2025-10-10T11:19:33.579513Z"
    }
   },
   "source": [
    "display(X[cat_cols])\n",
    "display(X[bool_cols])\n",
    "display(X[num_cols])"
   ],
   "outputs": [
    {
     "data": {
      "text/plain": [
       "       road_type  lighting weather time_of_day\n",
       "0          urban  daylight   rainy   afternoon\n",
       "1          urban  daylight   clear     evening\n",
       "2          rural       dim   clear     morning\n",
       "3        highway       dim   rainy     morning\n",
       "4          rural  daylight   foggy     evening\n",
       "...          ...       ...     ...         ...\n",
       "517749   highway  daylight   foggy   afternoon\n",
       "517750     rural  daylight   rainy     morning\n",
       "517751     urban  daylight   foggy   afternoon\n",
       "517752   highway     night   clear   afternoon\n",
       "517753   highway       dim   rainy   afternoon\n",
       "\n",
       "[517754 rows x 4 columns]"
      ],
      "text/html": [
       "<div>\n",
       "<style scoped>\n",
       "    .dataframe tbody tr th:only-of-type {\n",
       "        vertical-align: middle;\n",
       "    }\n",
       "\n",
       "    .dataframe tbody tr th {\n",
       "        vertical-align: top;\n",
       "    }\n",
       "\n",
       "    .dataframe thead th {\n",
       "        text-align: right;\n",
       "    }\n",
       "</style>\n",
       "<table border=\"1\" class=\"dataframe\">\n",
       "  <thead>\n",
       "    <tr style=\"text-align: right;\">\n",
       "      <th></th>\n",
       "      <th>road_type</th>\n",
       "      <th>lighting</th>\n",
       "      <th>weather</th>\n",
       "      <th>time_of_day</th>\n",
       "    </tr>\n",
       "  </thead>\n",
       "  <tbody>\n",
       "    <tr>\n",
       "      <th>0</th>\n",
       "      <td>urban</td>\n",
       "      <td>daylight</td>\n",
       "      <td>rainy</td>\n",
       "      <td>afternoon</td>\n",
       "    </tr>\n",
       "    <tr>\n",
       "      <th>1</th>\n",
       "      <td>urban</td>\n",
       "      <td>daylight</td>\n",
       "      <td>clear</td>\n",
       "      <td>evening</td>\n",
       "    </tr>\n",
       "    <tr>\n",
       "      <th>2</th>\n",
       "      <td>rural</td>\n",
       "      <td>dim</td>\n",
       "      <td>clear</td>\n",
       "      <td>morning</td>\n",
       "    </tr>\n",
       "    <tr>\n",
       "      <th>3</th>\n",
       "      <td>highway</td>\n",
       "      <td>dim</td>\n",
       "      <td>rainy</td>\n",
       "      <td>morning</td>\n",
       "    </tr>\n",
       "    <tr>\n",
       "      <th>4</th>\n",
       "      <td>rural</td>\n",
       "      <td>daylight</td>\n",
       "      <td>foggy</td>\n",
       "      <td>evening</td>\n",
       "    </tr>\n",
       "    <tr>\n",
       "      <th>...</th>\n",
       "      <td>...</td>\n",
       "      <td>...</td>\n",
       "      <td>...</td>\n",
       "      <td>...</td>\n",
       "    </tr>\n",
       "    <tr>\n",
       "      <th>517749</th>\n",
       "      <td>highway</td>\n",
       "      <td>daylight</td>\n",
       "      <td>foggy</td>\n",
       "      <td>afternoon</td>\n",
       "    </tr>\n",
       "    <tr>\n",
       "      <th>517750</th>\n",
       "      <td>rural</td>\n",
       "      <td>daylight</td>\n",
       "      <td>rainy</td>\n",
       "      <td>morning</td>\n",
       "    </tr>\n",
       "    <tr>\n",
       "      <th>517751</th>\n",
       "      <td>urban</td>\n",
       "      <td>daylight</td>\n",
       "      <td>foggy</td>\n",
       "      <td>afternoon</td>\n",
       "    </tr>\n",
       "    <tr>\n",
       "      <th>517752</th>\n",
       "      <td>highway</td>\n",
       "      <td>night</td>\n",
       "      <td>clear</td>\n",
       "      <td>afternoon</td>\n",
       "    </tr>\n",
       "    <tr>\n",
       "      <th>517753</th>\n",
       "      <td>highway</td>\n",
       "      <td>dim</td>\n",
       "      <td>rainy</td>\n",
       "      <td>afternoon</td>\n",
       "    </tr>\n",
       "  </tbody>\n",
       "</table>\n",
       "<p>517754 rows × 4 columns</p>\n",
       "</div>"
      ]
     },
     "metadata": {},
     "output_type": "display_data",
     "jetTransient": {
      "display_id": null
     }
    },
    {
     "data": {
      "text/plain": [
       "        road_signs_present  public_road  holiday  school_season\n",
       "0                    False         True    False           True\n",
       "1                     True        False     True           True\n",
       "2                    False         True     True          False\n",
       "3                     True         True    False          False\n",
       "4                    False        False     True          False\n",
       "...                    ...          ...      ...            ...\n",
       "517749                True         True    False          False\n",
       "517750                True         True    False          False\n",
       "517751               False        False    False           True\n",
       "517752                True        False     True           True\n",
       "517753               False         True     True           True\n",
       "\n",
       "[517754 rows x 4 columns]"
      ],
      "text/html": [
       "<div>\n",
       "<style scoped>\n",
       "    .dataframe tbody tr th:only-of-type {\n",
       "        vertical-align: middle;\n",
       "    }\n",
       "\n",
       "    .dataframe tbody tr th {\n",
       "        vertical-align: top;\n",
       "    }\n",
       "\n",
       "    .dataframe thead th {\n",
       "        text-align: right;\n",
       "    }\n",
       "</style>\n",
       "<table border=\"1\" class=\"dataframe\">\n",
       "  <thead>\n",
       "    <tr style=\"text-align: right;\">\n",
       "      <th></th>\n",
       "      <th>road_signs_present</th>\n",
       "      <th>public_road</th>\n",
       "      <th>holiday</th>\n",
       "      <th>school_season</th>\n",
       "    </tr>\n",
       "  </thead>\n",
       "  <tbody>\n",
       "    <tr>\n",
       "      <th>0</th>\n",
       "      <td>False</td>\n",
       "      <td>True</td>\n",
       "      <td>False</td>\n",
       "      <td>True</td>\n",
       "    </tr>\n",
       "    <tr>\n",
       "      <th>1</th>\n",
       "      <td>True</td>\n",
       "      <td>False</td>\n",
       "      <td>True</td>\n",
       "      <td>True</td>\n",
       "    </tr>\n",
       "    <tr>\n",
       "      <th>2</th>\n",
       "      <td>False</td>\n",
       "      <td>True</td>\n",
       "      <td>True</td>\n",
       "      <td>False</td>\n",
       "    </tr>\n",
       "    <tr>\n",
       "      <th>3</th>\n",
       "      <td>True</td>\n",
       "      <td>True</td>\n",
       "      <td>False</td>\n",
       "      <td>False</td>\n",
       "    </tr>\n",
       "    <tr>\n",
       "      <th>4</th>\n",
       "      <td>False</td>\n",
       "      <td>False</td>\n",
       "      <td>True</td>\n",
       "      <td>False</td>\n",
       "    </tr>\n",
       "    <tr>\n",
       "      <th>...</th>\n",
       "      <td>...</td>\n",
       "      <td>...</td>\n",
       "      <td>...</td>\n",
       "      <td>...</td>\n",
       "    </tr>\n",
       "    <tr>\n",
       "      <th>517749</th>\n",
       "      <td>True</td>\n",
       "      <td>True</td>\n",
       "      <td>False</td>\n",
       "      <td>False</td>\n",
       "    </tr>\n",
       "    <tr>\n",
       "      <th>517750</th>\n",
       "      <td>True</td>\n",
       "      <td>True</td>\n",
       "      <td>False</td>\n",
       "      <td>False</td>\n",
       "    </tr>\n",
       "    <tr>\n",
       "      <th>517751</th>\n",
       "      <td>False</td>\n",
       "      <td>False</td>\n",
       "      <td>False</td>\n",
       "      <td>True</td>\n",
       "    </tr>\n",
       "    <tr>\n",
       "      <th>517752</th>\n",
       "      <td>True</td>\n",
       "      <td>False</td>\n",
       "      <td>True</td>\n",
       "      <td>True</td>\n",
       "    </tr>\n",
       "    <tr>\n",
       "      <th>517753</th>\n",
       "      <td>False</td>\n",
       "      <td>True</td>\n",
       "      <td>True</td>\n",
       "      <td>True</td>\n",
       "    </tr>\n",
       "  </tbody>\n",
       "</table>\n",
       "<p>517754 rows × 4 columns</p>\n",
       "</div>"
      ]
     },
     "metadata": {},
     "output_type": "display_data",
     "jetTransient": {
      "display_id": null
     }
    },
    {
     "data": {
      "text/plain": [
       "        num_lanes  curvature  speed_limit  num_reported_accidents\n",
       "0               2       0.06           35                       1\n",
       "1               4       0.99           35                       0\n",
       "2               4       0.63           70                       2\n",
       "3               4       0.07           35                       1\n",
       "4               1       0.58           60                       1\n",
       "...           ...        ...          ...                     ...\n",
       "517749          4       0.10           70                       2\n",
       "517750          4       0.47           35                       1\n",
       "517751          4       0.62           25                       0\n",
       "517752          3       0.63           25                       3\n",
       "517753          2       0.31           45                       2\n",
       "\n",
       "[517754 rows x 4 columns]"
      ],
      "text/html": [
       "<div>\n",
       "<style scoped>\n",
       "    .dataframe tbody tr th:only-of-type {\n",
       "        vertical-align: middle;\n",
       "    }\n",
       "\n",
       "    .dataframe tbody tr th {\n",
       "        vertical-align: top;\n",
       "    }\n",
       "\n",
       "    .dataframe thead th {\n",
       "        text-align: right;\n",
       "    }\n",
       "</style>\n",
       "<table border=\"1\" class=\"dataframe\">\n",
       "  <thead>\n",
       "    <tr style=\"text-align: right;\">\n",
       "      <th></th>\n",
       "      <th>num_lanes</th>\n",
       "      <th>curvature</th>\n",
       "      <th>speed_limit</th>\n",
       "      <th>num_reported_accidents</th>\n",
       "    </tr>\n",
       "  </thead>\n",
       "  <tbody>\n",
       "    <tr>\n",
       "      <th>0</th>\n",
       "      <td>2</td>\n",
       "      <td>0.06</td>\n",
       "      <td>35</td>\n",
       "      <td>1</td>\n",
       "    </tr>\n",
       "    <tr>\n",
       "      <th>1</th>\n",
       "      <td>4</td>\n",
       "      <td>0.99</td>\n",
       "      <td>35</td>\n",
       "      <td>0</td>\n",
       "    </tr>\n",
       "    <tr>\n",
       "      <th>2</th>\n",
       "      <td>4</td>\n",
       "      <td>0.63</td>\n",
       "      <td>70</td>\n",
       "      <td>2</td>\n",
       "    </tr>\n",
       "    <tr>\n",
       "      <th>3</th>\n",
       "      <td>4</td>\n",
       "      <td>0.07</td>\n",
       "      <td>35</td>\n",
       "      <td>1</td>\n",
       "    </tr>\n",
       "    <tr>\n",
       "      <th>4</th>\n",
       "      <td>1</td>\n",
       "      <td>0.58</td>\n",
       "      <td>60</td>\n",
       "      <td>1</td>\n",
       "    </tr>\n",
       "    <tr>\n",
       "      <th>...</th>\n",
       "      <td>...</td>\n",
       "      <td>...</td>\n",
       "      <td>...</td>\n",
       "      <td>...</td>\n",
       "    </tr>\n",
       "    <tr>\n",
       "      <th>517749</th>\n",
       "      <td>4</td>\n",
       "      <td>0.10</td>\n",
       "      <td>70</td>\n",
       "      <td>2</td>\n",
       "    </tr>\n",
       "    <tr>\n",
       "      <th>517750</th>\n",
       "      <td>4</td>\n",
       "      <td>0.47</td>\n",
       "      <td>35</td>\n",
       "      <td>1</td>\n",
       "    </tr>\n",
       "    <tr>\n",
       "      <th>517751</th>\n",
       "      <td>4</td>\n",
       "      <td>0.62</td>\n",
       "      <td>25</td>\n",
       "      <td>0</td>\n",
       "    </tr>\n",
       "    <tr>\n",
       "      <th>517752</th>\n",
       "      <td>3</td>\n",
       "      <td>0.63</td>\n",
       "      <td>25</td>\n",
       "      <td>3</td>\n",
       "    </tr>\n",
       "    <tr>\n",
       "      <th>517753</th>\n",
       "      <td>2</td>\n",
       "      <td>0.31</td>\n",
       "      <td>45</td>\n",
       "      <td>2</td>\n",
       "    </tr>\n",
       "  </tbody>\n",
       "</table>\n",
       "<p>517754 rows × 4 columns</p>\n",
       "</div>"
      ]
     },
     "metadata": {},
     "output_type": "display_data",
     "jetTransient": {
      "display_id": null
     }
    }
   ],
   "execution_count": 14
  },
  {
   "cell_type": "code",
   "id": "f3caffc6",
   "metadata": {
    "ExecuteTime": {
     "end_time": "2025-10-10T11:19:36.451953Z",
     "start_time": "2025-10-10T11:19:35.048296Z"
    }
   },
   "source": [
    "plt.figure(figsize=(10, 8))\n",
    "for i, col in enumerate(num_cols):\n",
    "    plt.subplot(3, 2, i+1)\n",
    "    plt.scatter(X[col][:1000], y[:1000], label=col+\" vs \"+label, alpha=.4)\n",
    "    plt.legend()"
   ],
   "outputs": [
    {
     "data": {
      "text/plain": [
       "<Figure size 1000x800 with 4 Axes>"
      ],
      "image/png": "[encoded data removed]"
     },
     "metadata": {},
     "output_type": "display_data",
     "jetTransient": {
      "display_id": null
     }
    }
   ],
   "execution_count": 15
  },
  {
   "cell_type": "code",
   "id": "b035bdc2",
   "metadata": {
    "ExecuteTime": {
     "end_time": "2025-10-10T11:19:37.635498Z",
     "start_time": "2025-10-10T11:19:36.920726Z"
    }
   },
   "source": [
    "df = pd.concat([X[num_cols], y], axis=1)\n",
    "\n",
    "corr = df.corr()\n",
    "sns.heatmap(corr, annot=True, cmap='coolwarm')\n",
    "plt.title(\"Matrice de Corrélation\")\n",
    "plt.show()\n"
   ],
   "outputs": [
    {
     "data": {
      "text/plain": [
       "<Figure size 640x480 with 2 Axes>"
      ],
      "image/png": "[encoded data removed]"
     },
     "metadata": {},
     "output_type": "display_data",
     "jetTransient": {
      "display_id": null
     }
    }
   ],
   "execution_count": 16
  },
  {
   "cell_type": "code",
   "id": "68fa9d56",
   "metadata": {
    "ExecuteTime": {
     "end_time": "2025-10-10T11:19:38.212358Z",
     "start_time": "2025-10-10T11:19:37.677576Z"
    }
   },
   "source": [
    "from sklearn.model_selection import train_test_split\n",
    "\n",
    "X_train, X_test, y_train, y_test = train_test_split(X, y, test_size=.2, random_state=92)"
   ],
   "outputs": [],
   "execution_count": 17
  },
  {
   "metadata": {
    "ExecuteTime": {
     "end_time": "2025-10-10T11:19:38.261483Z",
     "start_time": "2025-10-10T11:19:38.254617Z"
    }
   },
   "cell_type": "code",
   "source": [
    "from sklearn.metrics import make_scorer, root_mean_squared_error\n",
    "\n",
    "scorer = make_scorer(root_mean_squared_error, greater_is_better=False)"
   ],
   "id": "69b3a197c19c7d74",
   "outputs": [],
   "execution_count": 18
  },
  {
   "metadata": {},
   "cell_type": "markdown",
   "source": "# Data Preparation for training and testing",
   "id": "36f9946e964251ee"
  },
  {
   "cell_type": "code",
   "id": "1a3b7e67",
   "metadata": {
    "ExecuteTime": {
     "end_time": "2025-10-10T11:19:38.412187Z",
     "start_time": "2025-10-10T11:19:38.329680Z"
    }
   },
   "source": [
    "from sklearn.preprocessing import StandardScaler\n",
    "from sklearn.preprocessing import OneHotEncoder, FunctionTransformer\n",
    "from sklearn.compose import ColumnTransformer\n",
    "\n",
    "def bool_to_int(X):\n",
    "    return X.astype(int)\n",
    "\n",
    "num_process = StandardScaler()\n",
    "cat_process = OneHotEncoder(handle_unknown='ignore', sparse_output=True)\n",
    "bool_process = FunctionTransformer(bool_to_int)\n",
    "\n",
    "preprocessing = ColumnTransformer(transformers=[\n",
    "    ('num', num_process, num_cols),\n",
    "    ('bool', bool_process, bool_cols),\n",
    "    ('cat', cat_process, cat_cols),\n",
    "])\n"
   ],
   "outputs": [],
   "execution_count": 19
  },
  {
   "metadata": {
    "ExecuteTime": {
     "end_time": "2025-10-10T11:19:38.553749Z",
     "start_time": "2025-10-10T11:19:38.547321Z"
    }
   },
   "cell_type": "code",
   "source": [
    "from sklearn.pipeline import Pipeline\n",
    "\n",
    "\n",
    "def build_pipeline(model, preprocessing=preprocessing):\n",
    "\n",
    "    pipeline = Pipeline(steps=[\n",
    "        (\"preprocessing\", preprocessing),\n",
    "        (\"model\", model)\n",
    "    ])\n",
    "\n",
    "    return pipeline"
   ],
   "id": "41782619c7f02ca",
   "outputs": [],
   "execution_count": 20
  },
  {
   "metadata": {},
   "cell_type": "markdown",
   "source": "# Model Selection",
   "id": "22eaae4d0ce6aad1"
  },
  {
   "metadata": {
    "ExecuteTime": {
     "end_time": "2025-10-10T11:19:38.619443Z",
     "start_time": "2025-10-10T11:19:38.612321Z"
    }
   },
   "cell_type": "code",
   "source": [
    "from sklearn.model_selection import cross_val_score\n",
    "from sklearn.model_selection import KFold\n",
    "\n",
    "kf = KFold(n_splits=5, shuffle=True, random_state=92)\n",
    "\n",
    "def evaluate_model(model):\n",
    "    pipeline = build_pipeline(model)\n",
    "    scores = cross_val_score(pipeline, X_train, y_train, cv=kf, scoring=scorer, n_jobs=-1)\n",
    "    print(f\"Moyenne type pour {model}: {scores.mean()}\")\n",
    "    print(f\"Ecart type pour {model}: {scores.std()}\")\n",
    "    return scores\n"
   ],
   "id": "153dd60128909289",
   "outputs": [],
   "execution_count": 21
  },
  {
   "metadata": {
    "ExecuteTime": {
     "end_time": "2025-10-10T11:19:38.976784Z",
     "start_time": "2025-10-10T11:19:38.660707Z"
    }
   },
   "cell_type": "code",
   "source": [
    "from sklearn.linear_model import Lasso\n",
    "from sklearn.linear_model import Ridge\n",
    "\n",
    "from sklearn.ensemble import RandomForestRegressor\n",
    "\n",
    "from xgboost import XGBRegressor\n",
    "from lightgbm import LGBMRegressor\n",
    "\n",
    "\n",
    "lasso = Lasso(alpha=0.1)\n",
    "ridge = Ridge(alpha=0.5)\n",
    "\n",
    "rf = RandomForestRegressor()\n",
    "\n",
    "xgb = XGBRegressor()\n",
    "lgbm = LGBMRegressor()"
   ],
   "id": "ed196c94e47bb08a",
   "outputs": [],
   "execution_count": 22
  },
  {
   "metadata": {
    "jupyter": {
     "is_executing": true
    },
    "ExecuteTime": {
     "start_time": "2025-10-10T11:19:39.012224Z"
    }
   },
   "cell_type": "code",
   "source": [
    "models = {\n",
    "    \"lasso\": lasso,\n",
    "    \"ridge\": ridge,\n",
    "    \"rf\": rf,\n",
    "    \"xgb\": xgb,\n",
    "    \"lgbm\": lgbm\n",
    "}\n",
    "models_scores = {}\n",
    "\n",
    "for model_name, model in models.items():\n",
    "    scores = evaluate_model(model)\n",
    "    models_scores[model_name] = scores"
   ],
   "id": "1376dbb0ac2d9f9a",
   "outputs": [],
   "execution_count": null
  },
  {
   "metadata": {
    "ExecuteTime": {
     "end_time": "2025-10-10T11:19:56.768142200Z",
     "start_time": "2025-10-10T07:13:43.051528Z"
    }
   },
   "cell_type": "code",
   "source": [
    "models_scores\n",
    "\n",
    "plt.boxplot(models_scores.values(), label=models_scores.keys())"
   ],
   "id": "b5f9a8cfb5065549",
   "outputs": [
    {
     "ename": "NameError",
     "evalue": "name 'models_scores' is not defined",
     "output_type": "error",
     "traceback": [
      "\u001B[31m---------------------------------------------------------------------------\u001B[39m",
      "\u001B[31mNameError\u001B[39m                                 Traceback (most recent call last)",
      "\u001B[36mCell\u001B[39m\u001B[36m \u001B[39m\u001B[32mIn[1]\u001B[39m\u001B[32m, line 1\u001B[39m\n\u001B[32m----> \u001B[39m\u001B[32m1\u001B[39m \u001B[43mmodels_scores\u001B[49m\n\u001B[32m      3\u001B[39m plt.boxplot(models_scores.values(), label=models_scores.keys())\n",
      "\u001B[31mNameError\u001B[39m: name 'models_scores' is not defined"
     ]
    }
   ],
   "execution_count": 1
  },
  {
   "metadata": {},
   "cell_type": "markdown",
   "source": "# Model evaluation and validation",
   "id": "2b42b2b49b66345c"
  },
  {
   "cell_type": "code",
   "id": "3709af3a",
   "metadata": {},
   "source": [
    "from sklearn.metrics import make_scorer, root_mean_squared_error\n",
    "\n",
    "scorer = make_scorer(root_mean_squared_error, greater_is_better=False)"
   ],
   "outputs": [],
   "execution_count": null
  },
  {
   "cell_type": "code",
   "id": "1d01b6b4",
   "metadata": {},
   "source": [
    "from sklearn.model_selection import RandomizedSearchCV\n",
    "\n",
    "def find_best_params(model, params, cv=5, n_iter=10, X_train=X_train, X_test=X_test, y_train=y_train, y_test=y_test):\n",
    "    \"\"\" Find the best model using RandomizedSearchCV on params\"\"\"\n",
    "    pipeline = build_pipeline(model)\n",
    "\n",
    "    rdcv = RandomizedSearchCV(\n",
    "        pipeline, \n",
    "        param_distributions=params, \n",
    "        scoring=scorer, \n",
    "        n_jobs=-1, \n",
    "        n_iter=n_iter,\n",
    "        cv=cv,\n",
    "        verbose=100,\n",
    "        random_state=92\n",
    "    )\n",
    "\n",
    "    rdcv.fit(X_train, y_train)\n",
    "\n",
    "    best_model = rdcv.best_estimator_\n",
    "    train_score = rdcv.best_score_\n",
    "    r2_score = best_model.score(X_test, y_test)\n",
    "\n",
    "    print(\"Train score:\", train_score)\n",
    "    print(\"R2 score on test:\", r2_score)\n",
    "\n",
    "    return best_model"
   ],
   "outputs": [],
   "execution_count": null
  },
  {
   "cell_type": "code",
   "id": "c5c8d5e1",
   "metadata": {},
   "source": [
    "def predict_for_submit(best_model, test_data=test_data, X=X, y=y):\n",
    "\n",
    "    best_model.fit(X, y)\n",
    "\n",
    "    y_pred = best_model.predict(test_data)\n",
    "\n",
    "    return y_pred\n",
    "\n",
    "def submit(y_pred, model_name, submission_data=submission_data):\n",
    "\n",
    "    submission = submission_data.copy()\n",
    "    submission['accident_risk'] = y_pred\n",
    "\n",
    "    file_path = f\"data/submission_{model_name}.csv\"\n",
    "    print(file_path)\n",
    "    submission.to_csv(file_path, index=False)\n",
    "\n",
    "\n",
    "    !kaggle competitions submit -c $COMPETITION_NAME -f $file_path -m \"{model_name} submission\"\n",
    "\n"
   ],
   "execution_count": null,
   "outputs": []
  },
  {
   "cell_type": "markdown",
   "id": "63cebda2",
   "metadata": {},
   "source": [
    "### XGBoost Model"
   ]
  },
  {
   "cell_type": "code",
   "id": "79841c68",
   "metadata": {},
   "source": [
    "from xgboost import XGBRegressor\n",
    "\n",
    "model_name = \"XGB\"\n",
    "\n",
    "model = XGBRegressor(\n",
    "    tree_method=\"hist\",\n",
    "    device=\"cuda\",\n",
    "    eval_metric='rmse', \n",
    "    scale_pos_weight=1,                      \n",
    "    random_state=92,\n",
    "    n_jobs=-1,\n",
    "    verbosity=1\n",
    ")\n",
    "\n",
    "\n",
    "xgb_params = {\n",
    "    'model__learning_rate': [0.01, 0.05, 0.1, 0.2],       \n",
    "    'model__max_depth': [4, 6, 8, 10],                   \n",
    "    'model__max_leaves': [0, 31, 63, 127],                 \n",
    "    'model__n_estimators': [500, 1000, 2000],             \n",
    "    'model__reg_alpha': [0, 0.01, 0.1, 1],               \n",
    "    'model__reg_lambda': [1, 1.5, 2, 3],                  \n",
    "    'model__subsample': [0.6, 0.8, 1.0],                      \n",
    "}\n",
    "\n",
    "#xgb_best_model = find_best_params(model, xgb_params, n_iter=15)\n",
    "\n",
    "#y_pred = predict_for_submit(xgb_best_model)\n",
    "\n",
    "#submit(y_pred, model_name)"
   ],
   "outputs": [],
   "execution_count": null
  },
  {
   "cell_type": "markdown",
   "id": "4f6106f3",
   "metadata": {},
   "source": [
    "### LGM model"
   ]
  },
  {
   "cell_type": "code",
   "id": "f592195f",
   "metadata": {},
   "source": [
    "from lightgbm import LGBMRegressor\n",
    "\n",
    "model_name = \"LGBM\"\n",
    "\n",
    "model = LGBMRegressor(\n",
    "    tree_method=\"hist\",\n",
    "    device=\"cuda\",\n",
    "    eval_metric='rmse', \n",
    "    scale_pos_weight=1,                      \n",
    "    random_state=92,\n",
    "    n_jobs=-1,\n",
    "    verbosity=1,\n",
    ")\n",
    "\n",
    "\n",
    "lgbm_params = {\n",
    "    'model__learning_rate': [0.01, 0.02, 0.05],\n",
    "    'model__max_depth': [6, 10, 16],  # pas trop grand pour éviter overfit\n",
    "    'model__n_estimators': [500, 1000, 2000],  # selon early stopping\n",
    "    'model__num_leaves': [31, 63, 127],  # dépend de max_depth\n",
    "    'model__reg_alpha': [0.1, 0.5, 1],  # régularisation L1\n",
    "    'model__reg_lambda': [0.1, 0.5, 1],  # régularisation L2\n",
    "    'model__subsample': [0.7, 0.8, 0.9],  # sous-échantillonnage\n",
    "    'model__colsample_bytree': [0.7, 0.8, 1.0],  # option utile pour large data\n",
    "    'model__min_child_samples': [20, 100, 300],  # évite les petites feuilles\n",
    "}\n",
    "\n",
    "\n",
    "lgbm_best_model = find_best_params(model, lgbm_params, n_iter=15)\n",
    "\n",
    "y_pred = predict_for_submit(lgbm_best_model)\n",
    "\n",
    "submit(y_pred, model_name)\n",
    "\n",
    "model"
   ],
   "outputs": [],
   "execution_count": null
  }
 ],
 "metadata": {
  "kernelspec": {
   "display_name": "Python 3 (ipykernel)",
   "language": "python",
   "name": "python3"
  },
  "language_info": {
   "codemirror_mode": {
    "name": "ipython",
    "version": 3
   },
   "file_extension": ".py",
   "mimetype": "text/x-python",
   "name": "python",
   "nbconvert_exporter": "python",
   "pygments_lexer": "ipython3",
   "version": "3.12.11"
  }
 },
 "nbformat": 4,
 "nbformat_minor": 5
}
